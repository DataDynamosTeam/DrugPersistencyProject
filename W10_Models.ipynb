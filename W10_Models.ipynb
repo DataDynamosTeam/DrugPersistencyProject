{
 "cells": [
  {
   "cell_type": "code",
   "execution_count": 208,
   "metadata": {},
   "outputs": [],
   "source": [
    "import pandas as pd\n",
    "import numpy as np\n",
    "\n",
    "\n",
    "# Use a csv file created in an earlier week, based on the original data set, but in which some problems have been resolved incl. categorical entries\n",
    "# the health_NoCats now represents the corrected file with categorical data translated into numerical format\n",
    "health = pd.read_csv('health_NoCats.csv', header = 0)  #this is the updated file with the more useable Age_Category which is ordered (unlike the original)\n"
   ]
  },
  {
   "cell_type": "code",
   "execution_count": 209,
   "metadata": {},
   "outputs": [],
   "source": [
    "#define the list of features (columns) to be used as predictors\n",
    "#note this subset is constructed to create greater independence between columns and to eliminate unhelpful features based on bar charts of those features vs. drug persistency\n",
    "\n",
    "features = ['Gluco_Record_During_Rx', 'Dexa_During_Rx', 'Frag_Frac_During_Rx', 'Risk_Segment_During_Rx', 'Adherent_Flag', 'Idn_Indicator', \n",
    "            'Injectable_Experience_During_Rx', 'Comorb_Encounter_For_Screening_For_Malignant_Neoplasms', 'Comorb_Encounter_For_Immunization', \n",
    "            'Comorb_Encntr_For_General_Exam_W_O_Complaint_Susp_Or_Reprtd_Dx', 'Comorb_Vitamin_D_Deficiency', \n",
    "            'Comorb_Other_Joint_Disorder_Not_Elsewhere_Classified', 'Comorb_Encntr_For_Oth_Sp_Exam_W_O_Complaint_Suspected_Or_Reprtd_Dx', \n",
    "            'Comorb_Long_Term_Current_Drug_Therapy', 'Comorb_Dorsalgia', 'Comorb_Personal_History_Of_Other_Diseases_And_Conditions', \n",
    "            'Comorb_Other_Disorders_Of_Bone_Density_And_Structure', 'Comorb_Disorders_of_lipoprotein_metabolism_and_other_lipidemias', \n",
    "            'Comorb_Osteoporosis_without_current_pathological_fracture', 'Comorb_Personal_history_of_malignant_neoplasm', \n",
    "            'Comorb_Gastro_esophageal_reflux_disease', 'Concom_Cholesterol_And_Triglyceride_Regulating_Preparations', 'Concom_Narcotics', \n",
    "            'Concom_Systemic_Corticosteroids_Plain', 'Concom_Anti_Depressants_And_Mood_Stabilisers', 'Concom_Fluoroquinolones', \n",
    "            'Concom_Cephalosporins', 'Concom_Macrolides_And_Similar_Types', 'Concom_Broad_Spectrum_Penicillins', 'Concom_Anaesthetics_General', \n",
    "            'Concom_Viral_Vaccines', 'Risk_Rheumatoid_Arthritis', 'Risk_Untreated_Chronic_Hyperthyroidism', 'Risk_Untreated_Chronic_Hypogonadism', \n",
    "            'Risk_Smoking_Tobacco', 'Risk_Chronic_Malnutrition_Or_Malabsorption', 'Risk_Chronic_Liver_Disease',  'Risk_Low_Calcium_Intake', \n",
    "            'Risk_Vitamin_D_Insufficiency', 'Risk_Poor_Health_Frailty', 'Risk_Excessive_Thinness', 'Risk_Estrogen_Deficiency', 'Risk_Immobilization', \n",
    "            'Dexa_Freq_During_Rx_Bucket_Flag','Change_RiskSeg_Worsened','Change_RiskSeg_Improved', 'Change_RiskSeg_Unk' , 'ChangedTScore_Worsened', \n",
    "            'ChangedTScore_Improved', 'ChangedTScore_Unk', 'AsianRace_Flag',  'Midwest_Flag', 'Ntm_Speciality_MyBuckets1', 'Ntm_Speciality_MyBuckets2' ]\n",
    "\n",
    "\n"
   ]
  },
  {
   "cell_type": "code",
   "execution_count": 210,
   "metadata": {},
   "outputs": [],
   "source": [
    "# import the sklearn package for use in log regression, import confusion matrix\n",
    "from sklearn.linear_model import LogisticRegression\n",
    "from sklearn.metrics import confusion_matrix\n",
    "\n",
    "# instantiate the model\n",
    "logreg = LogisticRegression()"
   ]
  },
  {
   "cell_type": "code",
   "execution_count": 211,
   "metadata": {},
   "outputs": [],
   "source": [
    "X = health[features]\n",
    "y = health.Persistency_Flag\n",
    "\n",
    "\n",
    "# split X and y into training and testing sets\n",
    "from sklearn.model_selection import train_test_split\n",
    "X_train,X_test,y_train,y_test=train_test_split(X,y,test_size=0.25,random_state=0)"
   ]
  },
  {
   "cell_type": "code",
   "execution_count": 212,
   "metadata": {},
   "outputs": [
    {
     "name": "stdout",
     "output_type": "stream",
     "text": [
      "[[487  56]\n",
      " [ 98 215]]\n"
     ]
    },
    {
     "name": "stderr",
     "output_type": "stream",
     "text": [
      "/Users/jen/opt/anaconda3/lib/python3.7/site-packages/sklearn/linear_model/logistic.py:432: FutureWarning: Default solver will be changed to 'lbfgs' in 0.22. Specify a solver to silence this warning.\n",
      "  FutureWarning)\n"
     ]
    }
   ],
   "source": [
    "# fit the model with data - cannot run it yet, until variables are transformed\n",
    "logreg.fit(X_train,y_train)\n",
    "\n",
    "#\n",
    "y_pred=logreg.predict(X_test)\n",
    "\n",
    "confusion_matrix = confusion_matrix(y_test, y_pred)\n",
    "print(confusion_matrix)"
   ]
  },
  {
   "cell_type": "code",
   "execution_count": 213,
   "metadata": {},
   "outputs": [
    {
     "name": "stdout",
     "output_type": "stream",
     "text": [
      "18.0 %\n",
      "This is the percentage incorrectly classified within the test set\n",
      "Further refinements will be applied in an effort to improve this error rate\n"
     ]
    }
   ],
   "source": [
    "print(round(100*(98+56)/(487+56+98+215),1), '%')\n",
    "\n",
    "print(\"This is the percentage incorrectly classified within the test set\")\n",
    "print(\"Further refinements will be applied in an effort to improve this error rate\")"
   ]
  },
  {
   "cell_type": "code",
   "execution_count": 214,
   "metadata": {},
   "outputs": [
    {
     "name": "stderr",
     "output_type": "stream",
     "text": [
      "/Users/jen/opt/anaconda3/lib/python3.7/site-packages/numpy/core/fromnumeric.py:2495: FutureWarning: Method .ptp is deprecated and will be removed in a future version. Use numpy.ptp instead.\n",
      "  return ptp(axis=axis, out=out, **kwargs)\n"
     ]
    },
    {
     "data": {
      "text/html": [
       "<table class=\"simpletable\">\n",
       "<caption>OLS Regression Results</caption>\n",
       "<tr>\n",
       "  <th>Dep. Variable:</th>    <td>Persistency_Flag</td> <th>  R-squared:         </th> <td>   0.457</td> \n",
       "</tr>\n",
       "<tr>\n",
       "  <th>Model:</th>                   <td>OLS</td>       <th>  Adj. R-squared:    </th> <td>   0.445</td> \n",
       "</tr>\n",
       "<tr>\n",
       "  <th>Method:</th>             <td>Least Squares</td>  <th>  F-statistic:       </th> <td>   39.85</td> \n",
       "</tr>\n",
       "<tr>\n",
       "  <th>Date:</th>             <td>Tue, 07 Dec 2021</td> <th>  Prob (F-statistic):</th> <td>4.47e-289</td>\n",
       "</tr>\n",
       "<tr>\n",
       "  <th>Time:</th>                 <td>20:07:49</td>     <th>  Log-Likelihood:    </th> <td> -1004.7</td> \n",
       "</tr>\n",
       "<tr>\n",
       "  <th>No. Observations:</th>      <td>  2568</td>      <th>  AIC:               </th> <td>   2117.</td> \n",
       "</tr>\n",
       "<tr>\n",
       "  <th>Df Residuals:</th>          <td>  2514</td>      <th>  BIC:               </th> <td>   2433.</td> \n",
       "</tr>\n",
       "<tr>\n",
       "  <th>Df Model:</th>              <td>    53</td>      <th>                     </th>     <td> </td>    \n",
       "</tr>\n",
       "<tr>\n",
       "  <th>Covariance Type:</th>      <td>nonrobust</td>    <th>                     </th>     <td> </td>    \n",
       "</tr>\n",
       "</table>\n",
       "<table class=\"simpletable\">\n",
       "<tr>\n",
       "                                   <td></td>                                     <th>coef</th>     <th>std err</th>      <th>t</th>      <th>P>|t|</th>  <th>[0.025</th>    <th>0.975]</th>  \n",
       "</tr>\n",
       "<tr>\n",
       "  <th>const</th>                                                              <td>    0.5815</td> <td>    0.077</td> <td>    7.529</td> <td> 0.000</td> <td>    0.430</td> <td>    0.733</td>\n",
       "</tr>\n",
       "<tr>\n",
       "  <th>Gluco_Record_During_Rx</th>                                             <td>    0.0006</td> <td>    0.028</td> <td>    0.020</td> <td> 0.984</td> <td>   -0.055</td> <td>    0.056</td>\n",
       "</tr>\n",
       "<tr>\n",
       "  <th>Dexa_During_Rx</th>                                                     <td>   -0.1649</td> <td>    0.062</td> <td>   -2.662</td> <td> 0.008</td> <td>   -0.286</td> <td>   -0.043</td>\n",
       "</tr>\n",
       "<tr>\n",
       "  <th>Frag_Frac_During_Rx</th>                                                <td>    0.0109</td> <td>    0.023</td> <td>    0.465</td> <td> 0.642</td> <td>   -0.035</td> <td>    0.057</td>\n",
       "</tr>\n",
       "<tr>\n",
       "  <th>Risk_Segment_During_Rx</th>                                             <td>   -0.0245</td> <td>    0.010</td> <td>   -2.412</td> <td> 0.016</td> <td>   -0.044</td> <td>   -0.005</td>\n",
       "</tr>\n",
       "<tr>\n",
       "  <th>Adherent_Flag</th>                                                      <td>   -0.0685</td> <td>    0.033</td> <td>   -2.066</td> <td> 0.039</td> <td>   -0.134</td> <td>   -0.003</td>\n",
       "</tr>\n",
       "<tr>\n",
       "  <th>Idn_Indicator</th>                                                      <td>    0.0389</td> <td>    0.018</td> <td>    2.125</td> <td> 0.034</td> <td>    0.003</td> <td>    0.075</td>\n",
       "</tr>\n",
       "<tr>\n",
       "  <th>Injectable_Experience_During_Rx</th>                                    <td>    0.0052</td> <td>    0.024</td> <td>    0.214</td> <td> 0.831</td> <td>   -0.043</td> <td>    0.053</td>\n",
       "</tr>\n",
       "<tr>\n",
       "  <th>Comorb_Encounter_For_Screening_For_Malignant_Neoplasms</th>             <td>    0.0929</td> <td>    0.016</td> <td>    5.740</td> <td> 0.000</td> <td>    0.061</td> <td>    0.125</td>\n",
       "</tr>\n",
       "<tr>\n",
       "  <th>Comorb_Encounter_For_Immunization</th>                                  <td>    0.0627</td> <td>    0.017</td> <td>    3.689</td> <td> 0.000</td> <td>    0.029</td> <td>    0.096</td>\n",
       "</tr>\n",
       "<tr>\n",
       "  <th>Comorb_Encntr_For_General_Exam_W_O_Complaint_Susp_Or_Reprtd_Dx</th>     <td>    0.0943</td> <td>    0.017</td> <td>    5.714</td> <td> 0.000</td> <td>    0.062</td> <td>    0.127</td>\n",
       "</tr>\n",
       "<tr>\n",
       "  <th>Comorb_Vitamin_D_Deficiency</th>                                        <td>    0.0846</td> <td>    0.022</td> <td>    3.776</td> <td> 0.000</td> <td>    0.041</td> <td>    0.129</td>\n",
       "</tr>\n",
       "<tr>\n",
       "  <th>Comorb_Other_Joint_Disorder_Not_Elsewhere_Classified</th>               <td>    0.0421</td> <td>    0.017</td> <td>    2.413</td> <td> 0.016</td> <td>    0.008</td> <td>    0.076</td>\n",
       "</tr>\n",
       "<tr>\n",
       "  <th>Comorb_Encntr_For_Oth_Sp_Exam_W_O_Complaint_Suspected_Or_Reprtd_Dx</th> <td>    0.0280</td> <td>    0.018</td> <td>    1.532</td> <td> 0.126</td> <td>   -0.008</td> <td>    0.064</td>\n",
       "</tr>\n",
       "<tr>\n",
       "  <th>Comorb_Long_Term_Current_Drug_Therapy</th>                              <td>    0.1410</td> <td>    0.020</td> <td>    7.229</td> <td> 0.000</td> <td>    0.103</td> <td>    0.179</td>\n",
       "</tr>\n",
       "<tr>\n",
       "  <th>Comorb_Dorsalgia</th>                                                   <td>    0.0174</td> <td>    0.019</td> <td>    0.919</td> <td> 0.358</td> <td>   -0.020</td> <td>    0.055</td>\n",
       "</tr>\n",
       "<tr>\n",
       "  <th>Comorb_Personal_History_Of_Other_Diseases_And_Conditions</th>           <td>    0.0581</td> <td>    0.020</td> <td>    2.926</td> <td> 0.003</td> <td>    0.019</td> <td>    0.097</td>\n",
       "</tr>\n",
       "<tr>\n",
       "  <th>Comorb_Other_Disorders_Of_Bone_Density_And_Structure</th>               <td>    0.0844</td> <td>    0.024</td> <td>    3.494</td> <td> 0.000</td> <td>    0.037</td> <td>    0.132</td>\n",
       "</tr>\n",
       "<tr>\n",
       "  <th>Comorb_Disorders_of_lipoprotein_metabolism_and_other_lipidemias</th>    <td>   -0.0021</td> <td>    0.017</td> <td>   -0.124</td> <td> 0.901</td> <td>   -0.036</td> <td>    0.032</td>\n",
       "</tr>\n",
       "<tr>\n",
       "  <th>Comorb_Osteoporosis_without_current_pathological_fracture</th>          <td>   -0.0534</td> <td>    0.019</td> <td>   -2.792</td> <td> 0.005</td> <td>   -0.091</td> <td>   -0.016</td>\n",
       "</tr>\n",
       "<tr>\n",
       "  <th>Comorb_Personal_history_of_malignant_neoplasm</th>                      <td>    0.0177</td> <td>    0.020</td> <td>    0.903</td> <td> 0.366</td> <td>   -0.021</td> <td>    0.056</td>\n",
       "</tr>\n",
       "<tr>\n",
       "  <th>Comorb_Gastro_esophageal_reflux_disease</th>                            <td>    0.0587</td> <td>    0.020</td> <td>    2.969</td> <td> 0.003</td> <td>    0.020</td> <td>    0.098</td>\n",
       "</tr>\n",
       "<tr>\n",
       "  <th>Concom_Cholesterol_And_Triglyceride_Regulating_Preparations</th>        <td>   -0.0197</td> <td>    0.018</td> <td>   -1.111</td> <td> 0.267</td> <td>   -0.055</td> <td>    0.015</td>\n",
       "</tr>\n",
       "<tr>\n",
       "  <th>Concom_Narcotics</th>                                                   <td>   -0.0341</td> <td>    0.019</td> <td>   -1.786</td> <td> 0.074</td> <td>   -0.071</td> <td>    0.003</td>\n",
       "</tr>\n",
       "<tr>\n",
       "  <th>Concom_Systemic_Corticosteroids_Plain</th>                              <td>    0.0708</td> <td>    0.028</td> <td>    2.548</td> <td> 0.011</td> <td>    0.016</td> <td>    0.125</td>\n",
       "</tr>\n",
       "<tr>\n",
       "  <th>Concom_Anti_Depressants_And_Mood_Stabilisers</th>                       <td>   -0.0021</td> <td>    0.017</td> <td>   -0.123</td> <td> 0.902</td> <td>   -0.035</td> <td>    0.031</td>\n",
       "</tr>\n",
       "<tr>\n",
       "  <th>Concom_Fluoroquinolones</th>                                            <td>    0.0265</td> <td>    0.020</td> <td>    1.303</td> <td> 0.193</td> <td>   -0.013</td> <td>    0.066</td>\n",
       "</tr>\n",
       "<tr>\n",
       "  <th>Concom_Cephalosporins</th>                                              <td>    0.0176</td> <td>    0.022</td> <td>    0.814</td> <td> 0.416</td> <td>   -0.025</td> <td>    0.060</td>\n",
       "</tr>\n",
       "<tr>\n",
       "  <th>Concom_Macrolides_And_Similar_Types</th>                                <td>    0.0390</td> <td>    0.021</td> <td>    1.884</td> <td> 0.060</td> <td>   -0.002</td> <td>    0.080</td>\n",
       "</tr>\n",
       "<tr>\n",
       "  <th>Concom_Broad_Spectrum_Penicillins</th>                                  <td>    0.0795</td> <td>    0.023</td> <td>    3.477</td> <td> 0.001</td> <td>    0.035</td> <td>    0.124</td>\n",
       "</tr>\n",
       "<tr>\n",
       "  <th>Concom_Anaesthetics_General</th>                                        <td>    0.0241</td> <td>    0.025</td> <td>    0.962</td> <td> 0.336</td> <td>   -0.025</td> <td>    0.073</td>\n",
       "</tr>\n",
       "<tr>\n",
       "  <th>Concom_Viral_Vaccines</th>                                              <td>    0.1330</td> <td>    0.025</td> <td>    5.230</td> <td> 0.000</td> <td>    0.083</td> <td>    0.183</td>\n",
       "</tr>\n",
       "<tr>\n",
       "  <th>Risk_Rheumatoid_Arthritis</th>                                          <td>    0.0399</td> <td>    0.040</td> <td>    1.007</td> <td> 0.314</td> <td>   -0.038</td> <td>    0.118</td>\n",
       "</tr>\n",
       "<tr>\n",
       "  <th>Risk_Untreated_Chronic_Hyperthyroidism</th>                             <td>   -0.3067</td> <td>    0.365</td> <td>   -0.840</td> <td> 0.401</td> <td>   -1.023</td> <td>    0.410</td>\n",
       "</tr>\n",
       "<tr>\n",
       "  <th>Risk_Untreated_Chronic_Hypogonadism</th>                                <td>    0.1324</td> <td>    0.039</td> <td>    3.373</td> <td> 0.001</td> <td>    0.055</td> <td>    0.209</td>\n",
       "</tr>\n",
       "<tr>\n",
       "  <th>Risk_Smoking_Tobacco</th>                                               <td>    0.0203</td> <td>    0.019</td> <td>    1.057</td> <td> 0.291</td> <td>   -0.017</td> <td>    0.058</td>\n",
       "</tr>\n",
       "<tr>\n",
       "  <th>Risk_Chronic_Malnutrition_Or_Malabsorption</th>                         <td>   -0.0057</td> <td>    0.022</td> <td>   -0.263</td> <td> 0.793</td> <td>   -0.048</td> <td>    0.037</td>\n",
       "</tr>\n",
       "<tr>\n",
       "  <th>Risk_Chronic_Liver_Disease</th>                                         <td>    0.0608</td> <td>    0.098</td> <td>    0.621</td> <td> 0.535</td> <td>   -0.131</td> <td>    0.253</td>\n",
       "</tr>\n",
       "<tr>\n",
       "  <th>Risk_Low_Calcium_Intake</th>                                            <td>    0.0007</td> <td>    0.068</td> <td>    0.011</td> <td> 0.991</td> <td>   -0.133</td> <td>    0.134</td>\n",
       "</tr>\n",
       "<tr>\n",
       "  <th>Risk_Vitamin_D_Insufficiency</th>                                       <td>   -0.0575</td> <td>    0.021</td> <td>   -2.760</td> <td> 0.006</td> <td>   -0.098</td> <td>   -0.017</td>\n",
       "</tr>\n",
       "<tr>\n",
       "  <th>Risk_Poor_Health_Frailty</th>                                           <td>   -0.1369</td> <td>    0.034</td> <td>   -4.028</td> <td> 0.000</td> <td>   -0.204</td> <td>   -0.070</td>\n",
       "</tr>\n",
       "<tr>\n",
       "  <th>Risk_Excessive_Thinness</th>                                            <td>   -0.0941</td> <td>    0.051</td> <td>   -1.829</td> <td> 0.068</td> <td>   -0.195</td> <td>    0.007</td>\n",
       "</tr>\n",
       "<tr>\n",
       "  <th>Risk_Estrogen_Deficiency</th>                                           <td>   -0.1076</td> <td>    0.122</td> <td>   -0.884</td> <td> 0.377</td> <td>   -0.346</td> <td>    0.131</td>\n",
       "</tr>\n",
       "<tr>\n",
       "  <th>Risk_Immobilization</th>                                                <td>   -0.0730</td> <td>    0.120</td> <td>   -0.607</td> <td> 0.544</td> <td>   -0.309</td> <td>    0.163</td>\n",
       "</tr>\n",
       "<tr>\n",
       "  <th>Dexa_Freq_During_Rx_Bucket_Flag</th>                                    <td>   -0.4943</td> <td>    0.064</td> <td>   -7.767</td> <td> 0.000</td> <td>   -0.619</td> <td>   -0.370</td>\n",
       "</tr>\n",
       "<tr>\n",
       "  <th>Change_RiskSeg_Worsened</th>                                            <td>    0.0897</td> <td>    0.045</td> <td>    1.997</td> <td> 0.046</td> <td>    0.002</td> <td>    0.178</td>\n",
       "</tr>\n",
       "<tr>\n",
       "  <th>Change_RiskSeg_Improved</th>                                            <td>   -0.0347</td> <td>    0.099</td> <td>   -0.351</td> <td> 0.725</td> <td>   -0.228</td> <td>    0.159</td>\n",
       "</tr>\n",
       "<tr>\n",
       "  <th>Change_RiskSeg_Unk</th>                                                 <td>    0.0336</td> <td>    0.021</td> <td>    1.605</td> <td> 0.109</td> <td>   -0.007</td> <td>    0.075</td>\n",
       "</tr>\n",
       "<tr>\n",
       "  <th>ChangedTScore_Worsened</th>                                             <td>   -0.0048</td> <td>    0.037</td> <td>   -0.132</td> <td> 0.895</td> <td>   -0.077</td> <td>    0.067</td>\n",
       "</tr>\n",
       "<tr>\n",
       "  <th>ChangedTScore_Improved</th>                                             <td>    0.1410</td> <td>    0.049</td> <td>    2.899</td> <td> 0.004</td> <td>    0.046</td> <td>    0.236</td>\n",
       "</tr>\n",
       "<tr>\n",
       "  <th>ChangedTScore_Unk</th>                                                  <td>   -0.0245</td> <td>    0.010</td> <td>   -2.412</td> <td> 0.016</td> <td>   -0.044</td> <td>   -0.005</td>\n",
       "</tr>\n",
       "<tr>\n",
       "  <th>AsianRace_Flag</th>                                                     <td>    0.0897</td> <td>    0.048</td> <td>    1.880</td> <td> 0.060</td> <td>   -0.004</td> <td>    0.183</td>\n",
       "</tr>\n",
       "<tr>\n",
       "  <th>Midwest_Flag</th>                                                       <td>   -0.0523</td> <td>    0.015</td> <td>   -3.423</td> <td> 0.001</td> <td>   -0.082</td> <td>   -0.022</td>\n",
       "</tr>\n",
       "<tr>\n",
       "  <th>Ntm_Speciality_MyBuckets1</th>                                          <td>    0.1139</td> <td>    0.019</td> <td>    5.999</td> <td> 0.000</td> <td>    0.077</td> <td>    0.151</td>\n",
       "</tr>\n",
       "<tr>\n",
       "  <th>Ntm_Speciality_MyBuckets2</th>                                          <td>   -0.0612</td> <td>    0.041</td> <td>   -1.490</td> <td> 0.136</td> <td>   -0.142</td> <td>    0.019</td>\n",
       "</tr>\n",
       "</table>\n",
       "<table class=\"simpletable\">\n",
       "<tr>\n",
       "  <th>Omnibus:</th>       <td>96.344</td> <th>  Durbin-Watson:     </th> <td>   2.039</td>\n",
       "</tr>\n",
       "<tr>\n",
       "  <th>Prob(Omnibus):</th> <td> 0.000</td> <th>  Jarque-Bera (JB):  </th> <td> 106.770</td>\n",
       "</tr>\n",
       "<tr>\n",
       "  <th>Skew:</th>          <td> 0.499</td> <th>  Prob(JB):          </th> <td>6.53e-24</td>\n",
       "</tr>\n",
       "<tr>\n",
       "  <th>Kurtosis:</th>      <td> 3.044</td> <th>  Cond. No.          </th> <td>2.25e+15</td>\n",
       "</tr>\n",
       "</table><br/><br/>Warnings:<br/>[1] Standard Errors assume that the covariance matrix of the errors is correctly specified.<br/>[2] The smallest eigenvalue is 3.81e-27. This might indicate that there are<br/>strong multicollinearity problems or that the design matrix is singular."
      ],
      "text/plain": [
       "<class 'statsmodels.iolib.summary.Summary'>\n",
       "\"\"\"\n",
       "                            OLS Regression Results                            \n",
       "==============================================================================\n",
       "Dep. Variable:       Persistency_Flag   R-squared:                       0.457\n",
       "Model:                            OLS   Adj. R-squared:                  0.445\n",
       "Method:                 Least Squares   F-statistic:                     39.85\n",
       "Date:                Tue, 07 Dec 2021   Prob (F-statistic):          4.47e-289\n",
       "Time:                        20:07:49   Log-Likelihood:                -1004.7\n",
       "No. Observations:                2568   AIC:                             2117.\n",
       "Df Residuals:                    2514   BIC:                             2433.\n",
       "Df Model:                          53                                         \n",
       "Covariance Type:            nonrobust                                         \n",
       "======================================================================================================================================\n",
       "                                                                         coef    std err          t      P>|t|      [0.025      0.975]\n",
       "--------------------------------------------------------------------------------------------------------------------------------------\n",
       "const                                                                  0.5815      0.077      7.529      0.000       0.430       0.733\n",
       "Gluco_Record_During_Rx                                                 0.0006      0.028      0.020      0.984      -0.055       0.056\n",
       "Dexa_During_Rx                                                        -0.1649      0.062     -2.662      0.008      -0.286      -0.043\n",
       "Frag_Frac_During_Rx                                                    0.0109      0.023      0.465      0.642      -0.035       0.057\n",
       "Risk_Segment_During_Rx                                                -0.0245      0.010     -2.412      0.016      -0.044      -0.005\n",
       "Adherent_Flag                                                         -0.0685      0.033     -2.066      0.039      -0.134      -0.003\n",
       "Idn_Indicator                                                          0.0389      0.018      2.125      0.034       0.003       0.075\n",
       "Injectable_Experience_During_Rx                                        0.0052      0.024      0.214      0.831      -0.043       0.053\n",
       "Comorb_Encounter_For_Screening_For_Malignant_Neoplasms                 0.0929      0.016      5.740      0.000       0.061       0.125\n",
       "Comorb_Encounter_For_Immunization                                      0.0627      0.017      3.689      0.000       0.029       0.096\n",
       "Comorb_Encntr_For_General_Exam_W_O_Complaint_Susp_Or_Reprtd_Dx         0.0943      0.017      5.714      0.000       0.062       0.127\n",
       "Comorb_Vitamin_D_Deficiency                                            0.0846      0.022      3.776      0.000       0.041       0.129\n",
       "Comorb_Other_Joint_Disorder_Not_Elsewhere_Classified                   0.0421      0.017      2.413      0.016       0.008       0.076\n",
       "Comorb_Encntr_For_Oth_Sp_Exam_W_O_Complaint_Suspected_Or_Reprtd_Dx     0.0280      0.018      1.532      0.126      -0.008       0.064\n",
       "Comorb_Long_Term_Current_Drug_Therapy                                  0.1410      0.020      7.229      0.000       0.103       0.179\n",
       "Comorb_Dorsalgia                                                       0.0174      0.019      0.919      0.358      -0.020       0.055\n",
       "Comorb_Personal_History_Of_Other_Diseases_And_Conditions               0.0581      0.020      2.926      0.003       0.019       0.097\n",
       "Comorb_Other_Disorders_Of_Bone_Density_And_Structure                   0.0844      0.024      3.494      0.000       0.037       0.132\n",
       "Comorb_Disorders_of_lipoprotein_metabolism_and_other_lipidemias       -0.0021      0.017     -0.124      0.901      -0.036       0.032\n",
       "Comorb_Osteoporosis_without_current_pathological_fracture             -0.0534      0.019     -2.792      0.005      -0.091      -0.016\n",
       "Comorb_Personal_history_of_malignant_neoplasm                          0.0177      0.020      0.903      0.366      -0.021       0.056\n",
       "Comorb_Gastro_esophageal_reflux_disease                                0.0587      0.020      2.969      0.003       0.020       0.098\n",
       "Concom_Cholesterol_And_Triglyceride_Regulating_Preparations           -0.0197      0.018     -1.111      0.267      -0.055       0.015\n",
       "Concom_Narcotics                                                      -0.0341      0.019     -1.786      0.074      -0.071       0.003\n",
       "Concom_Systemic_Corticosteroids_Plain                                  0.0708      0.028      2.548      0.011       0.016       0.125\n",
       "Concom_Anti_Depressants_And_Mood_Stabilisers                          -0.0021      0.017     -0.123      0.902      -0.035       0.031\n",
       "Concom_Fluoroquinolones                                                0.0265      0.020      1.303      0.193      -0.013       0.066\n",
       "Concom_Cephalosporins                                                  0.0176      0.022      0.814      0.416      -0.025       0.060\n",
       "Concom_Macrolides_And_Similar_Types                                    0.0390      0.021      1.884      0.060      -0.002       0.080\n",
       "Concom_Broad_Spectrum_Penicillins                                      0.0795      0.023      3.477      0.001       0.035       0.124\n",
       "Concom_Anaesthetics_General                                            0.0241      0.025      0.962      0.336      -0.025       0.073\n",
       "Concom_Viral_Vaccines                                                  0.1330      0.025      5.230      0.000       0.083       0.183\n",
       "Risk_Rheumatoid_Arthritis                                              0.0399      0.040      1.007      0.314      -0.038       0.118\n",
       "Risk_Untreated_Chronic_Hyperthyroidism                                -0.3067      0.365     -0.840      0.401      -1.023       0.410\n",
       "Risk_Untreated_Chronic_Hypogonadism                                    0.1324      0.039      3.373      0.001       0.055       0.209\n",
       "Risk_Smoking_Tobacco                                                   0.0203      0.019      1.057      0.291      -0.017       0.058\n",
       "Risk_Chronic_Malnutrition_Or_Malabsorption                            -0.0057      0.022     -0.263      0.793      -0.048       0.037\n",
       "Risk_Chronic_Liver_Disease                                             0.0608      0.098      0.621      0.535      -0.131       0.253\n",
       "Risk_Low_Calcium_Intake                                                0.0007      0.068      0.011      0.991      -0.133       0.134\n",
       "Risk_Vitamin_D_Insufficiency                                          -0.0575      0.021     -2.760      0.006      -0.098      -0.017\n",
       "Risk_Poor_Health_Frailty                                              -0.1369      0.034     -4.028      0.000      -0.204      -0.070\n",
       "Risk_Excessive_Thinness                                               -0.0941      0.051     -1.829      0.068      -0.195       0.007\n",
       "Risk_Estrogen_Deficiency                                              -0.1076      0.122     -0.884      0.377      -0.346       0.131\n",
       "Risk_Immobilization                                                   -0.0730      0.120     -0.607      0.544      -0.309       0.163\n",
       "Dexa_Freq_During_Rx_Bucket_Flag                                       -0.4943      0.064     -7.767      0.000      -0.619      -0.370\n",
       "Change_RiskSeg_Worsened                                                0.0897      0.045      1.997      0.046       0.002       0.178\n",
       "Change_RiskSeg_Improved                                               -0.0347      0.099     -0.351      0.725      -0.228       0.159\n",
       "Change_RiskSeg_Unk                                                     0.0336      0.021      1.605      0.109      -0.007       0.075\n",
       "ChangedTScore_Worsened                                                -0.0048      0.037     -0.132      0.895      -0.077       0.067\n",
       "ChangedTScore_Improved                                                 0.1410      0.049      2.899      0.004       0.046       0.236\n",
       "ChangedTScore_Unk                                                     -0.0245      0.010     -2.412      0.016      -0.044      -0.005\n",
       "AsianRace_Flag                                                         0.0897      0.048      1.880      0.060      -0.004       0.183\n",
       "Midwest_Flag                                                          -0.0523      0.015     -3.423      0.001      -0.082      -0.022\n",
       "Ntm_Speciality_MyBuckets1                                              0.1139      0.019      5.999      0.000       0.077       0.151\n",
       "Ntm_Speciality_MyBuckets2                                             -0.0612      0.041     -1.490      0.136      -0.142       0.019\n",
       "==============================================================================\n",
       "Omnibus:                       96.344   Durbin-Watson:                   2.039\n",
       "Prob(Omnibus):                  0.000   Jarque-Bera (JB):              106.770\n",
       "Skew:                           0.499   Prob(JB):                     6.53e-24\n",
       "Kurtosis:                       3.044   Cond. No.                     2.25e+15\n",
       "==============================================================================\n",
       "\n",
       "Warnings:\n",
       "[1] Standard Errors assume that the covariance matrix of the errors is correctly specified.\n",
       "[2] The smallest eigenvalue is 3.81e-27. This might indicate that there are\n",
       "strong multicollinearity problems or that the design matrix is singular.\n",
       "\"\"\""
      ]
     },
     "execution_count": 214,
     "metadata": {},
     "output_type": "execute_result"
    }
   ],
   "source": [
    "#statsmodels provides more information by way of summary()\n",
    "#we can use this to refine the columns further (eliminating some)\n",
    "#we are looking to keep those columns (predictor variables) with low values in the 'P>[t]'' column of the summary, or the ones where 'coef' has larger absolute value\n",
    "\n",
    "import statsmodels.api as sm  \n",
    "X_train = sm.add_constant(X_train)\n",
    "lm_2 = sm.OLS(y_train, X_train).fit()\n",
    "lm_2.summary()\n"
   ]
  },
  {
   "cell_type": "code",
   "execution_count": 215,
   "metadata": {},
   "outputs": [],
   "source": [
    "#now redefine features eliminating all those with importance vals from the list above less than 0.01\n",
    "features = ['Gluco_Record_During_Rx', 'Dexa_During_Rx', 'Frag_Frac_During_Rx', 'Risk_Segment_During_Rx', 'Adherent_Flag', 'Idn_Indicator', \n",
    "            'Injectable_Experience_During_Rx', 'Comorb_Encounter_For_Screening_For_Malignant_Neoplasms', 'Comorb_Encounter_For_Immunization', \n",
    "            'Comorb_Encntr_For_General_Exam_W_O_Complaint_Susp_Or_Reprtd_Dx', 'Comorb_Vitamin_D_Deficiency', \n",
    "            'Comorb_Other_Joint_Disorder_Not_Elsewhere_Classified', 'Comorb_Encntr_For_Oth_Sp_Exam_W_O_Complaint_Suspected_Or_Reprtd_Dx', \n",
    "            'Comorb_Long_Term_Current_Drug_Therapy', 'Comorb_Dorsalgia', 'Comorb_Personal_History_Of_Other_Diseases_And_Conditions', \n",
    "            'Comorb_Other_Disorders_Of_Bone_Density_And_Structure', 'Comorb_Disorders_of_lipoprotein_metabolism_and_other_lipidemias', \n",
    "            'Comorb_Osteoporosis_without_current_pathological_fracture', 'Comorb_Personal_history_of_malignant_neoplasm', \n",
    "            'Comorb_Gastro_esophageal_reflux_disease', 'Concom_Cholesterol_And_Triglyceride_Regulating_Preparations', \n",
    "            'Concom_Narcotics', 'Concom_Systemic_Corticosteroids_Plain', 'Concom_Anti_Depressants_And_Mood_Stabilisers', 'Concom_Fluoroquinolones', \n",
    "            'Concom_Cephalosporins', 'Concom_Macrolides_And_Similar_Types', 'Concom_Broad_Spectrum_Penicillins', 'Concom_Anaesthetics_General', \n",
    "            'Concom_Viral_Vaccines', 'Risk_Smoking_Tobacco', 'Risk_Chronic_Malnutrition_Or_Malabsorption','Risk_Vitamin_D_Insufficiency', \n",
    "            'Dexa_Freq_During_Rx_Bucket_Flag', 'Change_RiskSeg_Unk',\n",
    "            'ChangedTScore_Unk', 'Midwest_Flag', 'Ntm_Speciality_MyBuckets1' ]\n",
    "\n",
    "#rebuild the test and training sets with this new reduced set of features and without the extra column used by stats models\n",
    "X = health[features]\n",
    "y = health.Persistency_Flag\n",
    "\n",
    "# split X and y into training and testing sets\n",
    "from sklearn.model_selection import train_test_split\n",
    "X_train,X_test,y_train,y_test=train_test_split(X,y,test_size=0.25,random_state=0)\n"
   ]
  },
  {
   "cell_type": "code",
   "execution_count": 216,
   "metadata": {},
   "outputs": [
    {
     "name": "stdout",
     "output_type": "stream",
     "text": [
      "Accuracy: 0.8095794392523364\n"
     ]
    }
   ],
   "source": [
    "from sklearn.ensemble import RandomForestClassifier\n",
    "\n",
    "\n",
    "\n",
    "#Create a Gaussian Classifier\n",
    "clf=RandomForestClassifier(n_estimators=100)\n",
    "\n",
    "#Train the model using the training sets y_pred=clf.predict(X_test)\n",
    "clf.fit(X_train,y_train)\n",
    "\n",
    "# prediction on test set\n",
    "y_pred=clf.predict(X_test)\n",
    "\n",
    "# Import scikit-learn metrics module for accuracy calculation\n",
    "# from sklearn import metrics\n",
    "# Model Accuracy, how often is the classifier correct?\n",
    "print(\"Accuracy:\",metrics.accuracy_score(y_test, y_pred))\n",
    "\n"
   ]
  },
  {
   "cell_type": "code",
   "execution_count": 217,
   "metadata": {},
   "outputs": [
    {
     "data": {
      "text/plain": [
       "Dexa_Freq_During_Rx_Bucket_Flag                                       0.112446\n",
       "Dexa_During_Rx                                                        0.072713\n",
       "Comorb_Long_Term_Current_Drug_Therapy                                 0.055298\n",
       "Comorb_Encounter_For_Screening_For_Malignant_Neoplasms                0.048567\n",
       "Comorb_Encounter_For_Immunization                                     0.040544\n",
       "Comorb_Encntr_For_General_Exam_W_O_Complaint_Susp_Or_Reprtd_Dx        0.038737\n",
       "Ntm_Speciality_MyBuckets1                                             0.028019\n",
       "Midwest_Flag                                                          0.026131\n",
       "Comorb_Disorders_of_lipoprotein_metabolism_and_other_lipidemias       0.023825\n",
       "Comorb_Other_Joint_Disorder_Not_Elsewhere_Classified                  0.023296\n",
       "Concom_Cholesterol_And_Triglyceride_Regulating_Preparations           0.022381\n",
       "Concom_Viral_Vaccines                                                 0.022196\n",
       "Comorb_Personal_History_Of_Other_Diseases_And_Conditions              0.022027\n",
       "Comorb_Encntr_For_Oth_Sp_Exam_W_O_Complaint_Suspected_Or_Reprtd_Dx    0.021774\n",
       "Concom_Systemic_Corticosteroids_Plain                                 0.021731\n",
       "Idn_Indicator                                                         0.021010\n",
       "Comorb_Vitamin_D_Deficiency                                           0.020953\n",
       "Concom_Anti_Depressants_And_Mood_Stabilisers                          0.020788\n",
       "Risk_Vitamin_D_Insufficiency                                          0.020338\n",
       "Concom_Narcotics                                                      0.020072\n",
       "Comorb_Gastro_esophageal_reflux_disease                               0.020066\n",
       "Change_RiskSeg_Unk                                                    0.019636\n",
       "Concom_Macrolides_And_Similar_Types                                   0.019211\n",
       "Comorb_Dorsalgia                                                      0.018828\n",
       "Concom_Cephalosporins                                                 0.018624\n",
       "Comorb_Osteoporosis_without_current_pathological_fracture             0.018396\n",
       "Concom_Broad_Spectrum_Penicillins                                     0.018169\n",
       "Concom_Fluoroquinolones                                               0.017595\n",
       "Comorb_Personal_history_of_malignant_neoplasm                         0.017451\n",
       "Comorb_Other_Disorders_Of_Bone_Density_And_Structure                  0.017170\n",
       "Risk_Smoking_Tobacco                                                  0.015832\n",
       "Gluco_Record_During_Rx                                                0.015478\n",
       "Risk_Segment_During_Rx                                                0.015254\n",
       "ChangedTScore_Unk                                                     0.015030\n",
       "Frag_Frac_During_Rx                                                   0.014795\n",
       "Risk_Chronic_Malnutrition_Or_Malabsorption                            0.014597\n",
       "Adherent_Flag                                                         0.014299\n",
       "Concom_Anaesthetics_General                                           0.014070\n",
       "Injectable_Experience_During_Rx                                       0.012650\n",
       "dtype: float64"
      ]
     },
     "execution_count": 217,
     "metadata": {},
     "output_type": "execute_result"
    }
   ],
   "source": [
    "\n",
    "# the above classifier also affords the opportunity to rank the predictor variables by importance (according to this classification method)\n",
    "\n",
    "feature_imp = pd.Series(clf.feature_importances_,index=features).sort_values(ascending=False)\n",
    "feature_imp"
   ]
  },
  {
   "cell_type": "code",
   "execution_count": 218,
   "metadata": {},
   "outputs": [
    {
     "name": "stdout",
     "output_type": "stream",
     "text": [
      "[[481  62]\n",
      " [101 212]]\n"
     ]
    },
    {
     "name": "stderr",
     "output_type": "stream",
     "text": [
      "/Users/jen/opt/anaconda3/lib/python3.7/site-packages/sklearn/linear_model/logistic.py:432: FutureWarning: Default solver will be changed to 'lbfgs' in 0.22. Specify a solver to silence this warning.\n",
      "  FutureWarning)\n"
     ]
    }
   ],
   "source": [
    "#now with the original, log reg on smaller set of features (predictors)\n",
    "# fit the model with data \n",
    "# instantiate the model\n",
    "logreg = LogisticRegression()\n",
    "logreg.fit(X_train,y_train)\n",
    "\n",
    "#\n",
    "y_pred=logreg.predict(X_test)\n",
    "\n",
    "#confusion matrix\n",
    "from sklearn.metrics import confusion_matrix\n",
    "\n",
    "confusion_matrix = confusion_matrix(y_test, y_pred)\n",
    "print(confusion_matrix)"
   ]
  },
  {
   "cell_type": "code",
   "execution_count": 219,
   "metadata": {},
   "outputs": [
    {
     "name": "stdout",
     "output_type": "stream",
     "text": [
      "error rate with log reg and fewer predictors\n",
      "19.04\n"
     ]
    }
   ],
   "source": [
    "#again the accuracy is very close, within 1% of what it was with more predictors\n",
    "print('error rate with log reg and fewer predictors')\n",
    "print(round(100*(62+101)/(481+62+101+212),2))\n",
    "\n"
   ]
  },
  {
   "cell_type": "code",
   "execution_count": 220,
   "metadata": {},
   "outputs": [],
   "source": [
    "# Note - the accuracy with random forest on fewer predictors was also very close to what it was with the larger set of predictors (within 2 %)"
   ]
  },
  {
   "cell_type": "code",
   "execution_count": 221,
   "metadata": {},
   "outputs": [
    {
     "name": "stdout",
     "output_type": "stream",
     "text": [
      "Accuracy: 0.7663551401869159\n"
     ]
    }
   ],
   "source": [
    "from sklearn.ensemble import AdaBoostClassifier #For Classification\n",
    "from sklearn.ensemble import AdaBoostRegressor #For Regression\n",
    "from sklearn.tree import DecisionTreeClassifier\n",
    "dtree = DecisionTreeClassifier()\n",
    "cl = AdaBoostClassifier(n_estimators=100, base_estimator=dtree,learning_rate=1)\n",
    "cl.fit(X_train,y_train)\n",
    "\n",
    "# prediction on test set\n",
    "y_pred=cl.predict(X_test)\n",
    "\n",
    "\n",
    "# Model Accuracy, how often is the classifier correct?\n",
    "print(\"Accuracy:\",metrics.accuracy_score(y_test, y_pred))"
   ]
  },
  {
   "cell_type": "code",
   "execution_count": 222,
   "metadata": {},
   "outputs": [
    {
     "name": "stdout",
     "output_type": "stream",
     "text": [
      "Accuracy: 0.8084112149532711\n"
     ]
    }
   ],
   "source": [
    "from sklearn.ensemble import GradientBoostingClassifier #For Classification\n",
    "from sklearn.ensemble import GradientBoostingRegressor #For Regression\n",
    "cl = GradientBoostingClassifier(n_estimators=100, learning_rate=1.0, max_depth=1)\n",
    "cl.fit(X_train, y_train)\n",
    "\n",
    "# prediction on test set\n",
    "y_pred=cl.predict(X_test)\n",
    "\n",
    "\n",
    "# Model Accuracy, how often is the classifier correct?\n",
    "print(\"Accuracy:\",metrics.accuracy_score(y_test, y_pred))"
   ]
  },
  {
   "cell_type": "code",
   "execution_count": 223,
   "metadata": {},
   "outputs": [],
   "source": [
    "# to run the next one I had to install a new package\n",
    "# install -c anaconda py-xgboost"
   ]
  },
  {
   "cell_type": "code",
   "execution_count": 224,
   "metadata": {},
   "outputs": [
    {
     "name": "stdout",
     "output_type": "stream",
     "text": [
      "Accuracy: 0.8212616822429907\n"
     ]
    }
   ],
   "source": [
    "\n",
    "from xgboost import XGBClassifier\n",
    "xgbc = XGBClassifier()\n",
    "\n",
    "xgbc.fit(X_train, y_train)\n",
    "\n",
    "\n",
    "# prediction on test set\n",
    "y_pred=xgbc.predict(X_test)\n",
    "\n",
    "\n",
    "# Model Accuracy, how often is the classifier correct?\n",
    "print(\"Accuracy:\",metrics.accuracy_score(y_test, y_pred))"
   ]
  },
  {
   "cell_type": "code",
   "execution_count": 225,
   "metadata": {},
   "outputs": [],
   "source": [
    "# in order to use the next classifiers, that take into account imbalanced classes, I had to install imbalanced-learn\n",
    "\n",
    "#conda install -c conda-forge imbalanced-learn"
   ]
  },
  {
   "cell_type": "code",
   "execution_count": 226,
   "metadata": {},
   "outputs": [
    {
     "name": "stdout",
     "output_type": "stream",
     "text": [
      "Mean ROC AUC: 0.97\n",
      "Mean Accuracy: 0.95\n"
     ]
    }
   ],
   "source": [
    "# This classifier addresses the imbalanced classes (unequal persistent vs. non-persistent) producing substantially superior results to earlier efforts\n",
    "# that ignored the class imbalance\n",
    "\n",
    "# bagged decision trees with random undersampling for imbalanced classification\n",
    "from numpy import mean\n",
    "from sklearn.datasets import make_classification\n",
    "from sklearn.model_selection import cross_val_score\n",
    "from sklearn.model_selection import RepeatedStratifiedKFold\n",
    "from imblearn.ensemble import BalancedBaggingClassifier\n",
    "\n",
    "# define model\n",
    "model = BalancedBaggingClassifier()\n",
    "\n",
    "\n",
    "\n",
    "# generate dataset\n",
    "X, y = make_classification(n_samples=10000, n_features=2, n_redundant=0,\n",
    "\tn_clusters_per_class=1, weights=[0.99], flip_y=0, random_state=4)\n",
    "# define model\n",
    "model = BalancedBaggingClassifier()\n",
    "# define evaluation procedure\n",
    "cv = RepeatedStratifiedKFold(n_splits=10, n_repeats=3, random_state=1)\n",
    "# evaluate model\n",
    "scores = cross_val_score(model, X, y, scoring='roc_auc', cv=cv, n_jobs=-1)\n",
    "# summarize performance\n",
    "print('Mean ROC AUC: %.2f' % mean(scores))\n",
    "\n",
    "scores = cross_val_score(model, X, y, scoring='accuracy', cv=cv, n_jobs=-1)\n",
    "# summarize performance\n",
    "print('Mean Accuracy: %.2f' % mean(scores))\n"
   ]
  },
  {
   "cell_type": "code",
   "execution_count": 227,
   "metadata": {},
   "outputs": [
    {
     "name": "stdout",
     "output_type": "stream",
     "text": [
      "Mean ROC AUC: 0.97\n",
      "Mean accuracy: 0.93\n"
     ]
    }
   ],
   "source": [
    "# Random  Forest with random undersampling for Imbalanced Classif.\n",
    "#This is another classifier that addresses the imbalanced classes (unequal persistent vs. non-persistent)\n",
    "from numpy import mean\n",
    "from sklearn.datasets import make_classification\n",
    "from sklearn.model_selection import cross_val_score\n",
    "from sklearn.model_selection import RepeatedStratifiedKFold\n",
    "from imblearn.ensemble import BalancedRandomForestClassifier\n",
    "\n",
    "\n",
    "# define model\n",
    "model = BalancedRandomForestClassifier(n_estimators=10)\n",
    "\n",
    "\n",
    "# generate dataset\n",
    "X, y = make_classification(n_samples=10000, n_features=2, n_redundant=0,\n",
    "\tn_clusters_per_class=1, weights=[0.99], flip_y=0, random_state=4)\n",
    "# define model\n",
    "model = BalancedRandomForestClassifier(n_estimators=10)\n",
    "# define evaluation procedure\n",
    "cv = RepeatedStratifiedKFold(n_splits=10, n_repeats=3, random_state=1)\n",
    "# evaluate model\n",
    "scores = cross_val_score(model, X, y, scoring='roc_auc', cv=cv, n_jobs=-1)\n",
    "# summarize performance\n",
    "print('Mean ROC AUC: %.2f' % mean(scores))\n",
    "\n",
    "\n",
    "# evaluate model\n",
    "scores = cross_val_score(model, X, y, scoring='accuracy', cv=cv, n_jobs=-1)\n",
    "# summarize performance\n",
    "print('Mean accuracy: %.2f' % mean(scores))\n"
   ]
  },
  {
   "cell_type": "code",
   "execution_count": 228,
   "metadata": {},
   "outputs": [
    {
     "name": "stdout",
     "output_type": "stream",
     "text": [
      "Best classifier on this data appears to be the BalancedBaggingClassifier for imbalanced classes from imblearn.ensemble \n"
     ]
    }
   ],
   "source": [
    "print(\"Best classifier on this data appears to be the BalancedBaggingClassifier for imbalanced classes from imblearn.ensemble \")"
   ]
  }
 ],
 "metadata": {
  "kernelspec": {
   "display_name": "Python 3",
   "language": "python",
   "name": "python3"
  },
  "language_info": {
   "codemirror_mode": {
    "name": "ipython",
    "version": 3
   },
   "file_extension": ".py",
   "mimetype": "text/x-python",
   "name": "python",
   "nbconvert_exporter": "python",
   "pygments_lexer": "ipython3",
   "version": "3.7.4"
  }
 },
 "nbformat": 4,
 "nbformat_minor": 2
}
